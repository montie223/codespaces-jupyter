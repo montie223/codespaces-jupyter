{
 "cells": [
  {
   "cell_type": "code",
   "execution_count": 6,
   "metadata": {},
   "outputs": [
    {
     "name": "stdout",
     "output_type": "stream",
     "text": [
      "jesus christ\n",
      "53787 247478\n"
     ]
    }
   ],
   "source": [
    "mapping = {\n",
    "    \"2\": \"abc\",\n",
    "    \"3\": \"def\",\n",
    "    \"4\": \"ghi\",\n",
    "    \"5\": \"jkl\",\n",
    "    \"6\": \"mno\",\n",
    "    \"7\": \"pqrs\",\n",
    "    \"8\": \"tuv\",\n",
    "    \"9\": \"wxyz\",\n",
    "    \"0\": \". ,?\"  # Add special characters to mapping\n",
    "}\n",
    "\n",
    "def numberpad_tokenizer(text):\n",
    "    result = \"\"\n",
    "    for char in text:\n",
    "        if char.isalpha():  # Check for letters\n",
    "            for number, letters in mapping.items():\n",
    "                if char.lower() in letters:\n",
    "                    result += number\n",
    "                    break  # Move on after a match\n",
    "        else:\n",
    "            result += char  # Non-letters pass through\n",
    "    return result\n",
    "\n",
    "input_text = input(\"Enter a text: \")       \n",
    "text = input_text.lower()\n",
    "\n",
    "tokenized_text = numberpad_tokenizer(input_text)\n",
    "\n",
    "print (text)\n",
    "print(tokenized_text)\n"
   ]
  },
  {
   "cell_type": "code",
   "execution_count": 1,
   "metadata": {},
   "outputs": [
    {
     "name": "stdout",
     "output_type": "stream",
     "text": [
      "Yessir, my name is Justin Montie\n",
      "ess-ir,  am-e is ust-in ont-ie\n"
     ]
    }
   ],
   "source": [
    "import re\n",
    "\n",
    "\n",
    "def linguistic_tokenizer(text):\n",
    "    words = text.split()  # Split into words first\n",
    "    result = []\n",
    "\n",
    "    for word in words:\n",
    "        chunks = re.findall(r\"[aeiou]+[^aeiou]*\", word)  # Simple regex pattern\n",
    "        result.append(\"-\".join(chunks))  # Join chunks with '-' \n",
    "    return \" \".join(result)\n",
    "\n",
    "input_text = input(\"Enter a text: \") \n",
    "tokenized_text = linguistic_tokenizer(input_text)\n",
    "print (input_text)\n",
    "print(tokenized_text)\n"
   ]
  },
  {
   "cell_type": "code",
   "execution_count": 24,
   "metadata": {},
   "outputs": [
    {
     "ename": "NameError",
     "evalue": "name 'preserve_line' is not defined",
     "output_type": "error",
     "traceback": [
      "\u001b[0;31m---------------------------------------------------------------------------\u001b[0m",
      "\u001b[0;31mNameError\u001b[0m                                 Traceback (most recent call last)",
      "Cell \u001b[0;32mIn[24], line 3\u001b[0m\n\u001b[1;32m      1\u001b[0m \u001b[38;5;28;01mimport\u001b[39;00m \u001b[38;5;21;01mnltk\u001b[39;00m\n\u001b[0;32m----> 3\u001b[0m sentence \u001b[38;5;241m=\u001b[39m [text] \u001b[38;5;28;01mif\u001b[39;00m \u001b[43mpreserve_line\u001b[49m \u001b[38;5;28;01melse\u001b[39;00m sent_tokenize(\u001b[38;5;28minput\u001b[39m,english)\n\u001b[1;32m      4\u001b[0m \u001b[38;5;28;01mreturn\u001b[39;00m [        token \u001b[38;5;28;01mfor\u001b[39;00m sent \u001b[38;5;129;01min\u001b[39;00m sentence \u001b[38;5;28;01mfor\u001b[39;00m token \u001b[38;5;129;01min\u001b[39;00m _treebank_word_tokenizer\u001b[38;5;241m.\u001b[39mtokenize(sent)    ]\n\u001b[1;32m      5\u001b[0m tokens \u001b[38;5;241m=\u001b[39m nltk\u001b[38;5;241m.\u001b[39mword_tokenize(sentence)\n",
      "\u001b[0;31mNameError\u001b[0m: name 'preserve_line' is not defined"
     ]
    }
   ],
   "source": [
    "import nltk\n",
    "\n",
    "sentence = [text] if preserve_line else sent_tokenize(input,english)\n",
    "return [        token for sent in sentence for token in _treebank_word_tokenizer.tokenize(sent)    ]\n",
    "tokens = nltk.word_tokenize(sentence)\n",
    "\n",
    "print(tokens)\n",
    "tagged = nltk.pos_tag(tokens)\n",
    "\n",
    "print(tagged)\n",
    "\n"
   ]
  }
 ],
 "metadata": {
  "kernelspec": {
   "display_name": "Python 3",
   "language": "python",
   "name": "python3"
  },
  "language_info": {
   "codemirror_mode": {
    "name": "ipython",
    "version": 3
   },
   "file_extension": ".py",
   "mimetype": "text/x-python",
   "name": "python",
   "nbconvert_exporter": "python",
   "pygments_lexer": "ipython3",
   "version": "3.10.13"
  },
  "orig_nbformat": 4
 },
 "nbformat": 4,
 "nbformat_minor": 2
}
